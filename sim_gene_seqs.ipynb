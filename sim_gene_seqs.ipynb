{
 "cells": [
  {
   "cell_type": "code",
   "execution_count": 1,
   "id": "b16a2817-80a8-45fa-b52d-de84300eeee3",
   "metadata": {},
   "outputs": [],
   "source": [
    "import random"
   ]
  },
  {
   "cell_type": "code",
   "execution_count": 2,
   "id": "96ddcf85-8bad-412e-9fd1-64e25c343078",
   "metadata": {},
   "outputs": [],
   "source": [
    "prom_len = 75\n",
    "utr5_len = 46\n",
    "cds_len = 8"
   ]
  },
  {
   "cell_type": "code",
   "execution_count": 3,
   "id": "2448b16b-f828-47db-b9e1-b0b7d7bba593",
   "metadata": {},
   "outputs": [],
   "source": [
    "TBP=\"TATAAT\" #10x activator\n",
    "SP1=\"GGCGG\" #10x activator\n",
    "U1S=\"CCACC\" #10x activator\n",
    "CTCF=\"CTGGGAT\" #-30x repressor"
   ]
  },
  {
   "cell_type": "code",
   "execution_count": 4,
   "id": "f2880918-1fc6-4abb-a226-c0145b734b26",
   "metadata": {},
   "outputs": [],
   "source": [
    "bases=['a','c','g','t']\n",
    "def gen_seq(hastbp=True, hasu1=True):\n",
    "    out = random.choices(bases, k=prom_len-35)\n",
    "    if hastbp:\n",
    "        out += TBP\n",
    "    else:\n",
    "        out += random.choices(bases, k=len(TBP))\n",
    "    out += random.choices(bases, k=22)\n",
    "    out += \"CA\"\n",
    "    out += random.choices(bases, k=utr5_len)\n",
    "    if hasu1:\n",
    "        out += U1S\n",
    "    else:\n",
    "        out += random.choices(bases, k=len(U1S))\n",
    "    out += \"ATG\"\n",
    "    out += random.choices(bases, k=cds_len)\n",
    "    #out += \"TAA\"\n",
    "    return \"\".join(out)"
   ]
  },
  {
   "cell_type": "code",
   "execution_count": 5,
   "id": "e5f9a259-cb2c-4b06-a3de-3f75a456a371",
   "metadata": {},
   "outputs": [
    {
     "data": {
      "text/plain": [
       "'gatgagcaagccttttaatagaagcgcagacaccgcgtcaTATAATatcgacaaagagacggccgccgCAttttcaagaaaccaatgaagcgcacaaatgatagcggcaattcagaCCACCATGcacgaagc'"
      ]
     },
     "execution_count": 5,
     "metadata": {},
     "output_type": "execute_result"
    }
   ],
   "source": [
    "gen_seq()"
   ]
  },
  {
   "cell_type": "code",
   "execution_count": 6,
   "id": "0f4a8223-6416-42c6-b8e4-ea45465566e8",
   "metadata": {},
   "outputs": [
    {
     "data": {
      "text/plain": [
       "'ctactttcgagtcgaaaattcccgcaatctccattctaaacttacccatccagtcgagagtaattttaCAcaatgtttatgactggaagaagagagcgccagggctctgcattcacCCACCATGattggtcg'"
      ]
     },
     "execution_count": 6,
     "metadata": {},
     "output_type": "execute_result"
    }
   ],
   "source": [
    "gen_seq(False, True)"
   ]
  },
  {
   "cell_type": "code",
   "execution_count": 7,
   "id": "224e1f9a-0c24-4540-a908-5d2ff5a7afba",
   "metadata": {},
   "outputs": [
    {
     "data": {
      "text/plain": [
       "'ttcagaaaatatttgggatctgcctacactagccaggacgaatcgactcggattggtagccaatagttCAacttccgatactgcggatgaggggcagtcgacatcatttagtagttgagacATGgacgaata'"
      ]
     },
     "execution_count": 7,
     "metadata": {},
     "output_type": "execute_result"
    }
   ],
   "source": [
    "gen_seq(False, False)"
   ]
  },
  {
   "cell_type": "code",
   "execution_count": 8,
   "id": "3ab91198-82e3-47f2-935f-7e08b01f5a9f",
   "metadata": {},
   "outputs": [
    {
     "name": "stdout",
     "output_type": "stream",
     "text": [
      "132\n"
     ]
    }
   ],
   "source": [
    "print(len(gen_seq()))"
   ]
  },
  {
   "cell_type": "code",
   "execution_count": 9,
   "id": "1dbe092d-1b61-458c-ab52-99814899b910",
   "metadata": {},
   "outputs": [],
   "source": [
    "def score_seq(input):\n",
    "    input = input.lower()\n",
    "    score = 0.1\n",
    "\n",
    "    ini_valley = input[100:130]\n",
    "    sticky=0\n",
    "    for i in range(len(ini_valley)):\n",
    "        dinuc = ini_valley[i:i+2]\n",
    "        if dinuc == \"gc\" or dinuc == \"cg\":\n",
    "            sticky += 1\n",
    "        if dinuc == \"tt\":\n",
    "            sticky -= 1\n",
    "    if sticky > 0:\n",
    "        score = score+sticky\n",
    "    if input[65:71] == TBP.lower():\n",
    "        score = score*10\n",
    "    hit = input.find(SP1.lower())\n",
    "    if hit < prom_len and hit > 0:\n",
    "        score = score*10\n",
    "    if input[145:150] == U1S.lower():\n",
    "        score = score*10\n",
    "    return score"
   ]
  },
  {
   "cell_type": "code",
   "execution_count": 10,
   "id": "1184cb00-6caa-4cfd-a0d3-341369b1f4ea",
   "metadata": {},
   "outputs": [],
   "source": [
    "Nseqs=40000\n",
    "bool=[False, True]"
   ]
  },
  {
   "cell_type": "code",
   "execution_count": 11,
   "id": "55ec2414-f99f-4a13-b13c-34964cb7848b",
   "metadata": {},
   "outputs": [],
   "source": [
    "cseqs = [gen_seq(random.choice(bool), random.choice(bool)) for i in range(Nseqs)]\n",
    "out = [x + ',' + str(score_seq(x)) for x in cseqs]\n",
    "with open(\"./data/train.csv\", \"w\") as outf:\n",
    "    outf.write(\"seq,score\\n\" + \"\\n\".join(out))"
   ]
  },
  {
   "cell_type": "code",
   "execution_count": 13,
   "id": "c6b82706-5333-44ef-8bfe-d26e42b9e641",
   "metadata": {},
   "outputs": [],
   "source": [
    "cseqs = [gen_seq(random.choice(bool), random.choice(bool)) for i in range(Nseqs)]\n",
    "out = [x + ',' + str(score_seq(x)) for x in cseqs]\n",
    "with open(\"./data/test.csv\", \"w\") as outf:\n",
    "    outf.write(\"seq,score\\n\" + \"\\n\".join(out))"
   ]
  },
  {
   "cell_type": "code",
   "execution_count": null,
   "id": "03ed89e8-5fe5-4b4e-8083-aaa49c04c828",
   "metadata": {},
   "outputs": [],
   "source": []
  },
  {
   "cell_type": "code",
   "execution_count": null,
   "id": "7e26fec3-f2bf-44d3-aa80-9df5d84d9268",
   "metadata": {},
   "outputs": [],
   "source": []
  }
 ],
 "metadata": {
  "kernelspec": {
   "display_name": "Python 3 (ipykernel)",
   "language": "python",
   "name": "python3"
  },
  "language_info": {
   "codemirror_mode": {
    "name": "ipython",
    "version": 3
   },
   "file_extension": ".py",
   "mimetype": "text/x-python",
   "name": "python",
   "nbconvert_exporter": "python",
   "pygments_lexer": "ipython3",
   "version": "3.12.2"
  }
 },
 "nbformat": 4,
 "nbformat_minor": 5
}
